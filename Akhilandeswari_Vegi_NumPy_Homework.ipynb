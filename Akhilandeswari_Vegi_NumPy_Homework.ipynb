{
 "cells": [
  {
   "cell_type": "markdown",
   "id": "56bcd222",
   "metadata": {},
   "source": [
    "### NumPy Homework\n",
    "\n",
    "28 points\n",
    "\n",
    "Due by midnight February 12, 2024\n",
    "\n",
    "**To avoid erasing the sample output, please insert a new cell above the sample output**. Write your script inside the new cell and run. Verify your output with the sample output. The fish image can be downloaded from the Blackboard\n",
    "\n",
    "For homework submission, please rename your file using the following format\n",
    "\n",
    "`firstname_familyname_NumPy_Homework.ipynb`"
   ]
  },
  {
   "cell_type": "code",
   "execution_count": null,
   "id": "3076cb9d",
   "metadata": {},
   "outputs": [],
   "source": [
    "# please enter your name and 700# in this cell\n",
    "\n",
    "print(\"Akhilandeswari Vegi\")\n",
    "print(\"700758173\")\n"
   ]
  },
  {
   "cell_type": "markdown",
   "id": "628d0254",
   "metadata": {},
   "source": [
    "### Task 0\n",
    "Import the numpy package as np"
   ]
  },
  {
   "cell_type": "code",
   "execution_count": 1,
   "id": "c9370f82",
   "metadata": {},
   "outputs": [],
   "source": [
    "import numpy as np\n"
   ]
  },
  {
   "cell_type": "markdown",
   "id": "568fa9ad",
   "metadata": {},
   "source": [
    "### Task 1\n",
    "Create an numpy array of 10 nines"
   ]
  },
  {
   "cell_type": "code",
   "execution_count": 4,
   "id": "e8295527",
   "metadata": {},
   "outputs": [
    {
     "data": {
      "text/plain": [
       "array([9., 9., 9., 9., 9., 9., 9., 9., 9., 9.])"
      ]
     },
     "execution_count": 4,
     "metadata": {},
     "output_type": "execute_result"
    }
   ],
   "source": [
    "# Generate a numpy array of 10 nines\n",
    "np.ones(10) * 9\n",
    "\n"
   ]
  },
  {
   "cell_type": "code",
   "execution_count": 2,
   "id": "eb44f651",
   "metadata": {},
   "outputs": [
    {
     "data": {
      "text/plain": [
       "array([9., 9., 9., 9., 9., 9., 9., 9., 9., 9.])"
      ]
     },
     "execution_count": 2,
     "metadata": {},
     "output_type": "execute_result"
    }
   ],
   "source": []
  },
  {
   "cell_type": "markdown",
   "id": "83a32e2c",
   "metadata": {},
   "source": [
    "### Task 2\n",
    "Create an array of all the odd integers ranging from 11 to 49"
   ]
  },
  {
   "cell_type": "code",
   "execution_count": 5,
   "id": "bc9ff515",
   "metadata": {},
   "outputs": [
    {
     "data": {
      "text/plain": [
       "array([11, 13, 15, 17, 19, 21, 23, 25, 27, 29, 31, 33, 35, 37, 39, 41, 43,\n",
       "       45, 47, 49])"
      ]
     },
     "execution_count": 5,
     "metadata": {},
     "output_type": "execute_result"
    }
   ],
   "source": [
    "# Generate an array of all the odd integers ranging from 11 to 49\n",
    "np.arange(11, 50, 2)\n"
   ]
  },
  {
   "cell_type": "code",
   "execution_count": 3,
   "id": "8a5711d6",
   "metadata": {},
   "outputs": [
    {
     "data": {
      "text/plain": [
       "array([11, 13, 15, 17, 19, 21, 23, 25, 27, 29, 31, 33, 35, 37, 39, 41, 43,\n",
       "       45, 47, 49])"
      ]
     },
     "execution_count": 3,
     "metadata": {},
     "output_type": "execute_result"
    }
   ],
   "source": []
  },
  {
   "cell_type": "markdown",
   "id": "c8119736",
   "metadata": {},
   "source": [
    "### Task 3\n",
    "Create a $10 \\times 10$ numpy array with values ranging from 0.01 to 1.0 with step 0.01"
   ]
  },
  {
   "cell_type": "code",
   "execution_count": 6,
   "id": "aeb8911c",
   "metadata": {},
   "outputs": [
    {
     "data": {
      "text/plain": [
       "array([[0.01, 0.02, 0.03, 0.04, 0.05, 0.06, 0.07, 0.08, 0.09, 0.1 ],\n",
       "       [0.11, 0.12, 0.13, 0.14, 0.15, 0.16, 0.17, 0.18, 0.19, 0.2 ],\n",
       "       [0.21, 0.22, 0.23, 0.24, 0.25, 0.26, 0.27, 0.28, 0.29, 0.3 ],\n",
       "       [0.31, 0.32, 0.33, 0.34, 0.35, 0.36, 0.37, 0.38, 0.39, 0.4 ],\n",
       "       [0.41, 0.42, 0.43, 0.44, 0.45, 0.46, 0.47, 0.48, 0.49, 0.5 ],\n",
       "       [0.51, 0.52, 0.53, 0.54, 0.55, 0.56, 0.57, 0.58, 0.59, 0.6 ],\n",
       "       [0.61, 0.62, 0.63, 0.64, 0.65, 0.66, 0.67, 0.68, 0.69, 0.7 ],\n",
       "       [0.71, 0.72, 0.73, 0.74, 0.75, 0.76, 0.77, 0.78, 0.79, 0.8 ],\n",
       "       [0.81, 0.82, 0.83, 0.84, 0.85, 0.86, 0.87, 0.88, 0.89, 0.9 ],\n",
       "       [0.91, 0.92, 0.93, 0.94, 0.95, 0.96, 0.97, 0.98, 0.99, 1.  ]])"
      ]
     },
     "execution_count": 6,
     "metadata": {},
     "output_type": "execute_result"
    }
   ],
   "source": [
    "\n",
    "# Generate the values from 0.01 to 1.0 with step of 0.01 and reshape into an 10x10 np array\n",
    "np.arange(0.01, 1.01, 0.01).reshape(10, 10)\n"
   ]
  },
  {
   "cell_type": "code",
   "execution_count": 4,
   "id": "a3e91733",
   "metadata": {},
   "outputs": [
    {
     "data": {
      "text/plain": [
       "array([[0.01, 0.02, 0.03, 0.04, 0.05, 0.06, 0.07, 0.08, 0.09, 0.1 ],\n",
       "       [0.11, 0.12, 0.13, 0.14, 0.15, 0.16, 0.17, 0.18, 0.19, 0.2 ],\n",
       "       [0.21, 0.22, 0.23, 0.24, 0.25, 0.26, 0.27, 0.28, 0.29, 0.3 ],\n",
       "       [0.31, 0.32, 0.33, 0.34, 0.35, 0.36, 0.37, 0.38, 0.39, 0.4 ],\n",
       "       [0.41, 0.42, 0.43, 0.44, 0.45, 0.46, 0.47, 0.48, 0.49, 0.5 ],\n",
       "       [0.51, 0.52, 0.53, 0.54, 0.55, 0.56, 0.57, 0.58, 0.59, 0.6 ],\n",
       "       [0.61, 0.62, 0.63, 0.64, 0.65, 0.66, 0.67, 0.68, 0.69, 0.7 ],\n",
       "       [0.71, 0.72, 0.73, 0.74, 0.75, 0.76, 0.77, 0.78, 0.79, 0.8 ],\n",
       "       [0.81, 0.82, 0.83, 0.84, 0.85, 0.86, 0.87, 0.88, 0.89, 0.9 ],\n",
       "       [0.91, 0.92, 0.93, 0.94, 0.95, 0.96, 0.97, 0.98, 0.99, 1.  ]])"
      ]
     },
     "execution_count": 4,
     "metadata": {},
     "output_type": "execute_result"
    }
   ],
   "source": []
  },
  {
   "cell_type": "markdown",
   "id": "ab0399ee",
   "metadata": {},
   "source": [
    "### Task 4\n",
    "Generate a numpy array of 12 random numbers sampled from a standard normal distribution. Please use a random seed 123"
   ]
  },
  {
   "cell_type": "code",
   "execution_count": 7,
   "id": "c1417052",
   "metadata": {},
   "outputs": [
    {
     "data": {
      "text/plain": [
       "array([-1.0856306 ,  0.99734545,  0.2829785 , -1.50629471, -0.57860025,\n",
       "        1.65143654, -2.42667924, -0.42891263,  1.26593626, -0.8667404 ,\n",
       "       -0.67888615, -0.09470897])"
      ]
     },
     "execution_count": 7,
     "metadata": {},
     "output_type": "execute_result"
    }
   ],
   "source": [
    "# Set the random seed \n",
    "np.random.seed(123)\n",
    "\n",
    "# Generate a numpy array of 12 random numbers sampled from a standard normal distribution\n",
    "np.random.normal(0, 1,12)\n"
   ]
  },
  {
   "cell_type": "code",
   "execution_count": 5,
   "id": "17d85755",
   "metadata": {},
   "outputs": [
    {
     "data": {
      "text/plain": [
       "array([-1.0856306 ,  0.99734545,  0.2829785 , -1.50629471, -0.57860025,\n",
       "        1.65143654, -2.42667924, -0.42891263,  1.26593626, -0.8667404 ,\n",
       "       -0.67888615, -0.09470897])"
      ]
     },
     "execution_count": 5,
     "metadata": {},
     "output_type": "execute_result"
    }
   ],
   "source": []
  },
  {
   "cell_type": "markdown",
   "id": "03bfff3d",
   "metadata": {},
   "source": [
    "### Task 5\n",
    "Create a numpy array of 20 linearly spaced points between 0 and 1"
   ]
  },
  {
   "cell_type": "code",
   "execution_count": 8,
   "id": "64644aa2",
   "metadata": {},
   "outputs": [
    {
     "data": {
      "text/plain": [
       "array([0.        , 0.05263158, 0.10526316, 0.15789474, 0.21052632,\n",
       "       0.26315789, 0.31578947, 0.36842105, 0.42105263, 0.47368421,\n",
       "       0.52631579, 0.57894737, 0.63157895, 0.68421053, 0.73684211,\n",
       "       0.78947368, 0.84210526, 0.89473684, 0.94736842, 1.        ])"
      ]
     },
     "execution_count": 8,
     "metadata": {},
     "output_type": "execute_result"
    }
   ],
   "source": [
    "# Generate a numpy array of 20 linearly spaced points between 0 and 1\n",
    "np.linspace(0, 1, 20)\n"
   ]
  },
  {
   "cell_type": "code",
   "execution_count": 6,
   "id": "aae26f6d",
   "metadata": {},
   "outputs": [
    {
     "data": {
      "text/plain": [
       "array([0.        , 0.05263158, 0.10526316, 0.15789474, 0.21052632,\n",
       "       0.26315789, 0.31578947, 0.36842105, 0.42105263, 0.47368421,\n",
       "       0.52631579, 0.57894737, 0.63157895, 0.68421053, 0.73684211,\n",
       "       0.78947368, 0.84210526, 0.89473684, 0.94736842, 1.        ])"
      ]
     },
     "execution_count": 6,
     "metadata": {},
     "output_type": "execute_result"
    }
   ],
   "source": []
  },
  {
   "cell_type": "markdown",
   "id": "29f50789",
   "metadata": {},
   "source": [
    "### Task 6\n",
    "Create a $6 \\times 6$ two-dimensional array `m` with integers ranging from 1 to 36"
   ]
  },
  {
   "cell_type": "code",
   "execution_count": 10,
   "id": "ff344ec7",
   "metadata": {},
   "outputs": [
    {
     "data": {
      "text/plain": [
       "array([[ 1,  2,  3,  4,  5,  6],\n",
       "       [ 7,  8,  9, 10, 11, 12],\n",
       "       [13, 14, 15, 16, 17, 18],\n",
       "       [19, 20, 21, 22, 23, 24],\n",
       "       [25, 26, 27, 28, 29, 30],\n",
       "       [31, 32, 33, 34, 35, 36]])"
      ]
     },
     "execution_count": 10,
     "metadata": {},
     "output_type": "execute_result"
    }
   ],
   "source": [
    "# Generate a 6x6 two dimensional array with integers ranging from 1 to 36\n",
    "m = np.arange(1,37).reshape(6,6)\n",
    "m"
   ]
  },
  {
   "cell_type": "code",
   "execution_count": 7,
   "id": "94ed9c39",
   "metadata": {},
   "outputs": [
    {
     "data": {
      "text/plain": [
       "array([[ 1,  2,  3,  4,  5,  6],\n",
       "       [ 7,  8,  9, 10, 11, 12],\n",
       "       [13, 14, 15, 16, 17, 18],\n",
       "       [19, 20, 21, 22, 23, 24],\n",
       "       [25, 26, 27, 28, 29, 30],\n",
       "       [31, 32, 33, 34, 35, 36]])"
      ]
     },
     "execution_count": 7,
     "metadata": {},
     "output_type": "execute_result"
    }
   ],
   "source": []
  },
  {
   "cell_type": "markdown",
   "id": "22b6da06",
   "metadata": {},
   "source": [
    "### Task 7\n",
    "Using indexing and slicing to extract the following array from array `m`"
   ]
  },
  {
   "cell_type": "code",
   "execution_count": 11,
   "id": "36f1ff82",
   "metadata": {},
   "outputs": [
    {
     "data": {
      "text/plain": [
       "array([[14, 15, 16, 17, 18],\n",
       "       [20, 21, 22, 23, 24],\n",
       "       [26, 27, 28, 29, 30],\n",
       "       [32, 33, 34, 35, 36]])"
      ]
     },
     "execution_count": 11,
     "metadata": {},
     "output_type": "execute_result"
    }
   ],
   "source": [
    "# using indexing and slicing \n",
    "m[2:,1:]"
   ]
  },
  {
   "cell_type": "code",
   "execution_count": 8,
   "id": "3be39dca",
   "metadata": {},
   "outputs": [
    {
     "data": {
      "text/plain": [
       "array([[14, 15, 16, 17, 18],\n",
       "       [20, 21, 22, 23, 24],\n",
       "       [26, 27, 28, 29, 30],\n",
       "       [32, 33, 34, 35, 36]])"
      ]
     },
     "execution_count": 8,
     "metadata": {},
     "output_type": "execute_result"
    }
   ],
   "source": []
  },
  {
   "cell_type": "markdown",
   "id": "455f6098",
   "metadata": {},
   "source": [
    "### Task 8\n",
    "Using indexing and slicing to extract the following array from array `m`"
   ]
  },
  {
   "cell_type": "code",
   "execution_count": 12,
   "id": "965085a7",
   "metadata": {},
   "outputs": [
    {
     "data": {
      "text/plain": [
       "array([[ 2],\n",
       "       [ 8],\n",
       "       [14]])"
      ]
     },
     "execution_count": 12,
     "metadata": {},
     "output_type": "execute_result"
    }
   ],
   "source": [
    "# using indexing and slicing \n",
    "m[:3,1:2:2]"
   ]
  },
  {
   "cell_type": "code",
   "execution_count": 9,
   "id": "e87bb473",
   "metadata": {},
   "outputs": [
    {
     "data": {
      "text/plain": [
       "array([[ 2],\n",
       "       [ 8],\n",
       "       [14]])"
      ]
     },
     "execution_count": 9,
     "metadata": {},
     "output_type": "execute_result"
    }
   ],
   "source": []
  },
  {
   "cell_type": "markdown",
   "id": "dd38c377",
   "metadata": {},
   "source": [
    "### Task 9\n",
    "Using indexing and slicing to extract the following array from array `m`"
   ]
  },
  {
   "cell_type": "code",
   "execution_count": 13,
   "id": "66f5dfff",
   "metadata": {},
   "outputs": [
    {
     "data": {
      "text/plain": [
       "array([[31, 32, 33, 34, 35, 36],\n",
       "       [19, 20, 21, 22, 23, 24]])"
      ]
     },
     "execution_count": 13,
     "metadata": {},
     "output_type": "execute_result"
    }
   ],
   "source": [
    "# using indexing and slicing \n",
    "m[:2:-2,::]"
   ]
  },
  {
   "cell_type": "code",
   "execution_count": 10,
   "id": "52e41963",
   "metadata": {},
   "outputs": [
    {
     "data": {
      "text/plain": [
       "array([[31, 32, 33, 34, 35, 36],\n",
       "       [19, 20, 21, 22, 23, 24]])"
      ]
     },
     "execution_count": 10,
     "metadata": {},
     "output_type": "execute_result"
    }
   ],
   "source": []
  },
  {
   "cell_type": "markdown",
   "id": "a815078b",
   "metadata": {},
   "source": [
    "### Task 10\n",
    "Using indexing and slicing to extract the following array from array `m`"
   ]
  },
  {
   "cell_type": "code",
   "execution_count": 14,
   "id": "d58fa837",
   "metadata": {},
   "outputs": [
    {
     "data": {
      "text/plain": [
       "array([[36, 35, 34, 33, 32, 31],\n",
       "       [30, 29, 28, 27, 26, 25],\n",
       "       [24, 23, 22, 21, 20, 19]])"
      ]
     },
     "execution_count": 14,
     "metadata": {},
     "output_type": "execute_result"
    }
   ],
   "source": [
    "# using indexing and slicing \n",
    "m[:2:-1,::-1]"
   ]
  },
  {
   "cell_type": "code",
   "execution_count": 11,
   "id": "773846c6",
   "metadata": {},
   "outputs": [
    {
     "data": {
      "text/plain": [
       "array([[36, 35, 34, 33, 32, 31],\n",
       "       [30, 29, 28, 27, 26, 25],\n",
       "       [24, 23, 22, 21, 20, 19]])"
      ]
     },
     "execution_count": 11,
     "metadata": {},
     "output_type": "execute_result"
    }
   ],
   "source": []
  },
  {
   "cell_type": "markdown",
   "id": "a72f2bb0",
   "metadata": {},
   "source": [
    "### Task 11\n",
    "Get the sum of the values in array `m`"
   ]
  },
  {
   "cell_type": "code",
   "execution_count": 15,
   "id": "967e3d5c",
   "metadata": {},
   "outputs": [
    {
     "data": {
      "text/plain": [
       "666"
      ]
     },
     "execution_count": 15,
     "metadata": {},
     "output_type": "execute_result"
    }
   ],
   "source": [
    "# sum of the values in the array m\n",
    "arraySum = np.sum(m)\n",
    "arraySum"
   ]
  },
  {
   "cell_type": "code",
   "execution_count": 12,
   "id": "605b1c53",
   "metadata": {},
   "outputs": [
    {
     "data": {
      "text/plain": [
       "666"
      ]
     },
     "execution_count": 12,
     "metadata": {},
     "output_type": "execute_result"
    }
   ],
   "source": []
  },
  {
   "cell_type": "markdown",
   "id": "f458647e",
   "metadata": {},
   "source": [
    "### Task 12\n",
    "Get the sum of all the columns in array `m`"
   ]
  },
  {
   "cell_type": "code",
   "execution_count": 16,
   "id": "8799a5c5",
   "metadata": {},
   "outputs": [
    {
     "data": {
      "text/plain": [
       "array([ 96, 102, 108, 114, 120, 126])"
      ]
     },
     "execution_count": 16,
     "metadata": {},
     "output_type": "execute_result"
    }
   ],
   "source": [
    "colSum = np.sum(m,axis=0)\n",
    "colSum"
   ]
  },
  {
   "cell_type": "code",
   "execution_count": 13,
   "id": "c804ad44",
   "metadata": {},
   "outputs": [
    {
     "data": {
      "text/plain": [
       "array([ 96, 102, 108, 114, 120, 126])"
      ]
     },
     "execution_count": 13,
     "metadata": {},
     "output_type": "execute_result"
    }
   ],
   "source": []
  },
  {
   "cell_type": "markdown",
   "id": "304d8096",
   "metadata": {},
   "source": [
    "### Task 13\n",
    "Select all even numbers from array `m`"
   ]
  },
  {
   "cell_type": "code",
   "execution_count": 24,
   "id": "abf09b2b",
   "metadata": {},
   "outputs": [
    {
     "data": {
      "text/plain": [
       "array([ 2,  4,  6,  8, 10, 12, 14, 16, 18, 20, 22, 24, 26, 28, 30, 32, 34,\n",
       "       36])"
      ]
     },
     "execution_count": 24,
     "metadata": {},
     "output_type": "execute_result"
    }
   ],
   "source": [
    "# generate all even numbers from array m\n",
    "evenNumArr=m[m%2==0]\n",
    "evenNumArr"
   ]
  },
  {
   "cell_type": "code",
   "execution_count": 14,
   "id": "af12804c",
   "metadata": {},
   "outputs": [
    {
     "data": {
      "text/plain": [
       "array([ 2,  4,  6,  8, 10, 12, 14, 16, 18, 20, 22, 24, 26, 28, 30, 32, 34,\n",
       "       36])"
      ]
     },
     "execution_count": 14,
     "metadata": {},
     "output_type": "execute_result"
    }
   ],
   "source": []
  },
  {
   "cell_type": "markdown",
   "id": "b0b39b93",
   "metadata": {},
   "source": [
    "### Task 14\n",
    "Create a $3 \\times 3 \\times 5$ three-dimensional array with integers from `[0, 44]`"
   ]
  },
  {
   "cell_type": "code",
   "execution_count": 18,
   "id": "60a71367",
   "metadata": {},
   "outputs": [
    {
     "data": {
      "text/plain": [
       "array([[[ 0,  1,  2,  3,  4],\n",
       "        [ 5,  6,  7,  8,  9],\n",
       "        [10, 11, 12, 13, 14]],\n",
       "\n",
       "       [[15, 16, 17, 18, 19],\n",
       "        [20, 21, 22, 23, 24],\n",
       "        [25, 26, 27, 28, 29]],\n",
       "\n",
       "       [[30, 31, 32, 33, 34],\n",
       "        [35, 36, 37, 38, 39],\n",
       "        [40, 41, 42, 43, 44]]])"
      ]
     },
     "execution_count": 18,
     "metadata": {},
     "output_type": "execute_result"
    }
   ],
   "source": [
    "# create a 3x35 dimensional arr with integers from [0,44]\n",
    "arr=np.arange(45).reshape(3,3,5)\n",
    "arr"
   ]
  },
  {
   "cell_type": "code",
   "execution_count": 15,
   "id": "b4315f1b",
   "metadata": {},
   "outputs": [
    {
     "data": {
      "text/plain": [
       "array([[[ 0,  1,  2,  3,  4],\n",
       "        [ 5,  6,  7,  8,  9],\n",
       "        [10, 11, 12, 13, 14]],\n",
       "\n",
       "       [[15, 16, 17, 18, 19],\n",
       "        [20, 21, 22, 23, 24],\n",
       "        [25, 26, 27, 28, 29]],\n",
       "\n",
       "       [[30, 31, 32, 33, 34],\n",
       "        [35, 36, 37, 38, 39],\n",
       "        [40, 41, 42, 43, 44]]])"
      ]
     },
     "execution_count": 15,
     "metadata": {},
     "output_type": "execute_result"
    }
   ],
   "source": []
  },
  {
   "cell_type": "markdown",
   "id": "95c76f5d",
   "metadata": {},
   "source": [
    "### Task 15\n",
    "Replace the elements within the two red boxes to 1\n",
    "\n",
    "<div>\n",
    "<img src=\"attachment:f1.png\" width=\"210\" align=\"left\"/>\n",
    "</div>"
   ]
  },
  {
   "cell_type": "code",
   "execution_count": 19,
   "id": "fb830b1e",
   "metadata": {},
   "outputs": [
    {
     "data": {
      "text/plain": [
       "array([[[ 0,  1,  2,  3,  4],\n",
       "        [ 5,  6,  7,  8,  9],\n",
       "        [10, 11, 12, 13, 14]],\n",
       "\n",
       "       [[15,  1,  1,  1, 19],\n",
       "        [20, 21, 22, 23, 24],\n",
       "        [25,  1,  1,  1, 29]],\n",
       "\n",
       "       [[30, 31, 32, 33, 34],\n",
       "        [35, 36, 37, 38, 39],\n",
       "        [40, 41, 42, 43, 44]]])"
      ]
     },
     "execution_count": 19,
     "metadata": {},
     "output_type": "execute_result"
    }
   ],
   "source": [
    "# Replace the mentioned elements in arr to 1\n",
    "arr[1,::2,1:4] =1\n",
    "arr"
   ]
  },
  {
   "cell_type": "code",
   "execution_count": 16,
   "id": "a485de44",
   "metadata": {},
   "outputs": [
    {
     "data": {
      "text/plain": [
       "array([[[ 0,  1,  2,  3,  4],\n",
       "        [ 5,  6,  7,  8,  9],\n",
       "        [10, 11, 12, 13, 14]],\n",
       "\n",
       "       [[15,  1,  1,  1, 19],\n",
       "        [20, 21, 22, 23, 24],\n",
       "        [25,  1,  1,  1, 29]],\n",
       "\n",
       "       [[30, 31, 32, 33, 34],\n",
       "        [35, 36, 37, 38, 39],\n",
       "        [40, 41, 42, 43, 44]]])"
      ]
     },
     "execution_count": 16,
     "metadata": {},
     "output_type": "execute_result"
    }
   ],
   "source": []
  },
  {
   "cell_type": "markdown",
   "id": "b4a98ad7",
   "metadata": {},
   "source": [
    "### Task 16\n",
    "Replace all the even numbers in the array to 0"
   ]
  },
  {
   "cell_type": "code",
   "execution_count": 20,
   "id": "4f938c3b",
   "metadata": {},
   "outputs": [
    {
     "data": {
      "text/plain": [
       "array([[[ 0,  1,  0,  3,  0],\n",
       "        [ 5,  0,  7,  0,  9],\n",
       "        [ 0, 11,  0, 13,  0]],\n",
       "\n",
       "       [[15,  1,  1,  1, 19],\n",
       "        [ 0, 21,  0, 23,  0],\n",
       "        [25,  1,  1,  1, 29]],\n",
       "\n",
       "       [[ 0, 31,  0, 33,  0],\n",
       "        [35,  0, 37,  0, 39],\n",
       "        [ 0, 41,  0, 43,  0]]])"
      ]
     },
     "execution_count": 20,
     "metadata": {},
     "output_type": "execute_result"
    }
   ],
   "source": [
    "# Replace all even num in array to 0\n",
    "arr[arr%2==0]=0\n",
    "arr"
   ]
  },
  {
   "cell_type": "code",
   "execution_count": 17,
   "id": "57c985b2",
   "metadata": {},
   "outputs": [
    {
     "data": {
      "text/plain": [
       "array([[[ 0,  1,  0,  3,  0],\n",
       "        [ 5,  0,  7,  0,  9],\n",
       "        [ 0, 11,  0, 13,  0]],\n",
       "\n",
       "       [[15,  1,  1,  1, 19],\n",
       "        [ 0, 21,  0, 23,  0],\n",
       "        [25,  1,  1,  1, 29]],\n",
       "\n",
       "       [[ 0, 31,  0, 33,  0],\n",
       "        [35,  0, 37,  0, 39],\n",
       "        [ 0, 41,  0, 43,  0]]])"
      ]
     },
     "execution_count": 17,
     "metadata": {},
     "output_type": "execute_result"
    }
   ],
   "source": []
  },
  {
   "cell_type": "markdown",
   "id": "b565697f",
   "metadata": {},
   "source": [
    "### Task 17\n",
    "Replace all the odd numbers in the array to 1"
   ]
  },
  {
   "cell_type": "code",
   "execution_count": 21,
   "id": "dfb82a76",
   "metadata": {},
   "outputs": [
    {
     "data": {
      "text/plain": [
       "array([[[0, 1, 0, 1, 0],\n",
       "        [1, 0, 1, 0, 1],\n",
       "        [0, 1, 0, 1, 0]],\n",
       "\n",
       "       [[1, 1, 1, 1, 1],\n",
       "        [0, 1, 0, 1, 0],\n",
       "        [1, 1, 1, 1, 1]],\n",
       "\n",
       "       [[0, 1, 0, 1, 0],\n",
       "        [1, 0, 1, 0, 1],\n",
       "        [0, 1, 0, 1, 0]]])"
      ]
     },
     "execution_count": 21,
     "metadata": {},
     "output_type": "execute_result"
    }
   ],
   "source": [
    "# Replace all odd num in arr to 1\n",
    "arr[arr%2!=0]=1\n",
    "arr"
   ]
  },
  {
   "cell_type": "code",
   "execution_count": 18,
   "id": "cd14e05c",
   "metadata": {},
   "outputs": [
    {
     "data": {
      "text/plain": [
       "array([[[0, 1, 0, 1, 0],\n",
       "        [1, 0, 1, 0, 1],\n",
       "        [0, 1, 0, 1, 0]],\n",
       "\n",
       "       [[1, 1, 1, 1, 1],\n",
       "        [0, 1, 0, 1, 0],\n",
       "        [1, 1, 1, 1, 1]],\n",
       "\n",
       "       [[0, 1, 0, 1, 0],\n",
       "        [1, 0, 1, 0, 1],\n",
       "        [0, 1, 0, 1, 0]]])"
      ]
     },
     "execution_count": 18,
     "metadata": {},
     "output_type": "execute_result"
    }
   ],
   "source": []
  },
  {
   "cell_type": "markdown",
   "id": "bb91ab11",
   "metadata": {},
   "source": [
    "### Task 18\n",
    "Change the array shape to $9 \\times 5$"
   ]
  },
  {
   "cell_type": "code",
   "execution_count": 25,
   "id": "0f1cc3e0",
   "metadata": {},
   "outputs": [
    {
     "data": {
      "text/plain": [
       "array([[0, 1, 0, 1, 0],\n",
       "       [1, 0, 1, 0, 1],\n",
       "       [0, 1, 0, 1, 0],\n",
       "       [1, 1, 1, 1, 1],\n",
       "       [0, 1, 0, 1, 0],\n",
       "       [1, 1, 1, 1, 1],\n",
       "       [0, 1, 0, 1, 0],\n",
       "       [1, 0, 1, 0, 1],\n",
       "       [0, 1, 0, 1, 0]])"
      ]
     },
     "execution_count": 25,
     "metadata": {},
     "output_type": "execute_result"
    }
   ],
   "source": [
    "# Change the array shape to 9x5 \n",
    "reshapedArr=arr.reshape(9,5)\n",
    "reshapedArr"
   ]
  },
  {
   "cell_type": "code",
   "execution_count": 19,
   "id": "1a68e327",
   "metadata": {},
   "outputs": [
    {
     "data": {
      "text/plain": [
       "array([[0, 1, 0, 1, 0],\n",
       "       [1, 0, 1, 0, 1],\n",
       "       [0, 1, 0, 1, 0],\n",
       "       [1, 1, 1, 1, 1],\n",
       "       [0, 1, 0, 1, 0],\n",
       "       [1, 1, 1, 1, 1],\n",
       "       [0, 1, 0, 1, 0],\n",
       "       [1, 0, 1, 0, 1],\n",
       "       [0, 1, 0, 1, 0]])"
      ]
     },
     "execution_count": 19,
     "metadata": {},
     "output_type": "execute_result"
    }
   ],
   "source": []
  },
  {
   "cell_type": "markdown",
   "id": "3cab9326",
   "metadata": {},
   "source": [
    "### Task 19\n",
    "Creates two $2 \\times 4$ matrices with integers from `[0, 7]`"
   ]
  },
  {
   "cell_type": "code",
   "execution_count": 27,
   "id": "ba70597a",
   "metadata": {},
   "outputs": [
    {
     "name": "stdout",
     "output_type": "stream",
     "text": [
      "[[0 1 2 3]\n",
      " [4 5 6 7]]\n",
      "[[0 1 2 3]\n",
      " [4 5 6 7]]\n"
     ]
    }
   ],
   "source": [
    "# create two 2x4 matrices with integers from [0,7]\n",
    "matrix1=np.arange(8).reshape(2,4)\n",
    "matrix2 = np.arange(8).reshape(2,4)\n",
    "print(matrix1)\n",
    "print(matrix2)"
   ]
  },
  {
   "cell_type": "code",
   "execution_count": 25,
   "id": "ad1727fa",
   "metadata": {},
   "outputs": [
    {
     "name": "stdout",
     "output_type": "stream",
     "text": [
      "[[0 1 2 3]\n",
      " [4 5 6 7]]\n",
      "[[0 1 2 3]\n",
      " [4 5 6 7]]\n"
     ]
    }
   ],
   "source": []
  },
  {
   "cell_type": "markdown",
   "id": "9265c47f",
   "metadata": {},
   "source": [
    "### Task 20\n",
    "Vertically stack the two matrices"
   ]
  },
  {
   "cell_type": "code",
   "execution_count": 29,
   "id": "3cc4b05f",
   "metadata": {},
   "outputs": [
    {
     "data": {
      "text/plain": [
       "array([[0, 1, 2, 3],\n",
       "       [4, 5, 6, 7],\n",
       "       [0, 1, 2, 3],\n",
       "       [4, 5, 6, 7]])"
      ]
     },
     "execution_count": 29,
     "metadata": {},
     "output_type": "execute_result"
    }
   ],
   "source": [
    "# vertically stack above two matrices\n",
    "stackedMatrix=np.vstack([matrix1,matrix2])\n",
    "stackedMatrix"
   ]
  },
  {
   "cell_type": "code",
   "execution_count": 21,
   "id": "317e679f",
   "metadata": {},
   "outputs": [
    {
     "data": {
      "text/plain": [
       "array([[0, 1, 2, 3],\n",
       "       [4, 5, 6, 7],\n",
       "       [0, 1, 2, 3],\n",
       "       [4, 5, 6, 7]])"
      ]
     },
     "execution_count": 21,
     "metadata": {},
     "output_type": "execute_result"
    }
   ],
   "source": []
  },
  {
   "cell_type": "markdown",
   "id": "77721a71",
   "metadata": {},
   "source": [
    "### Task 21\n",
    "Split the big matrix into two $4 \\times 2$ small matrices"
   ]
  },
  {
   "cell_type": "code",
   "execution_count": 41,
   "id": "54f51739",
   "metadata": {},
   "outputs": [
    {
     "name": "stdout",
     "output_type": "stream",
     "text": [
      "[[0 1]\n",
      " [4 5]\n",
      " [0 1]\n",
      " [4 5]]\n",
      "[[2 3]\n",
      " [6 7]\n",
      " [2 3]\n",
      " [6 7]]\n"
     ]
    }
   ],
   "source": [
    "# split the big matrix to two 4x2 small matrices\n",
    "left, right = np.hsplit(stackedMatrix, [2])\n",
    "print(left)\n",
    "print(right)"
   ]
  },
  {
   "cell_type": "code",
   "execution_count": 26,
   "id": "3789856a",
   "metadata": {},
   "outputs": [
    {
     "name": "stdout",
     "output_type": "stream",
     "text": [
      "[[0 1]\n",
      " [4 5]\n",
      " [0 1]\n",
      " [4 5]]\n",
      "[[2 3]\n",
      " [6 7]\n",
      " [2 3]\n",
      " [6 7]]\n"
     ]
    }
   ],
   "source": []
  },
  {
   "cell_type": "markdown",
   "id": "898f6e0a",
   "metadata": {},
   "source": [
    "### Task 22\n",
    "Duplicate one of the resulting matrices once horizontally"
   ]
  },
  {
   "cell_type": "code",
   "execution_count": 42,
   "id": "e08641b1",
   "metadata": {},
   "outputs": [
    {
     "data": {
      "text/plain": [
       "array([[2, 3, 2, 3],\n",
       "       [6, 7, 6, 7],\n",
       "       [2, 3, 2, 3],\n",
       "       [6, 7, 6, 7]])"
      ]
     },
     "execution_count": 42,
     "metadata": {},
     "output_type": "execute_result"
    }
   ],
   "source": [
    "# duplicate one of above matrices once horizantally\n",
    "duplicatedMatrix= np.tile(right,(1,2))\n",
    "duplicatedMatrix"
   ]
  },
  {
   "cell_type": "code",
   "execution_count": 27,
   "id": "b53ebe4a",
   "metadata": {},
   "outputs": [
    {
     "data": {
      "text/plain": [
       "array([[2, 3, 2, 3],\n",
       "       [6, 7, 6, 7],\n",
       "       [2, 3, 2, 3],\n",
       "       [6, 7, 6, 7]])"
      ]
     },
     "execution_count": 27,
     "metadata": {},
     "output_type": "execute_result"
    }
   ],
   "source": []
  },
  {
   "cell_type": "markdown",
   "id": "a23bd513",
   "metadata": {},
   "source": [
    "### Task 23\n",
    "Create an array shown below\n",
    "\n",
    "<div>\n",
    "<img src=\"attachment:f1.png\" width=\"200\" align=\"left\"/>\n",
    "</div>"
   ]
  },
  {
   "cell_type": "code",
   "execution_count": 43,
   "id": "6b399010",
   "metadata": {},
   "outputs": [
    {
     "data": {
      "text/plain": [
       "array([[0., 1., 2., 3.],\n",
       "       [0., 1., 2., 3.],\n",
       "       [0., 1., 2., 3.],\n",
       "       [0., 1., 2., 3.],\n",
       "       [0., 1., 2., 3.],\n",
       "       [0., 1., 2., 3.],\n",
       "       [0., 1., 2., 3.],\n",
       "       [0., 1., 2., 3.]])"
      ]
     },
     "execution_count": 43,
     "metadata": {},
     "output_type": "execute_result"
    }
   ],
   "source": [
    "array=np.arange(4,dtype=float)\n",
    "np.tile(array,(8,1))"
   ]
  },
  {
   "cell_type": "code",
   "execution_count": 28,
   "id": "d6d73150",
   "metadata": {},
   "outputs": [
    {
     "data": {
      "text/plain": [
       "array([[0., 1., 2., 3.],\n",
       "       [0., 1., 2., 3.],\n",
       "       [0., 1., 2., 3.],\n",
       "       [0., 1., 2., 3.],\n",
       "       [0., 1., 2., 3.],\n",
       "       [0., 1., 2., 3.],\n",
       "       [0., 1., 2., 3.],\n",
       "       [0., 1., 2., 3.]])"
      ]
     },
     "execution_count": 28,
     "metadata": {},
     "output_type": "execute_result"
    }
   ],
   "source": []
  },
  {
   "cell_type": "markdown",
   "id": "52e8d5e9",
   "metadata": {},
   "source": [
    "### Task 24\n",
    "Generate a numpy array of 12 random numbers sampled from a standard normal distribution. Please use a random seed 123. Find the first three smallest values from the array"
   ]
  },
  {
   "cell_type": "code",
   "execution_count": 44,
   "id": "e8da7089",
   "metadata": {},
   "outputs": [
    {
     "data": {
      "text/plain": [
       "array([-2.42667924, -1.50629471, -1.0856306 ])"
      ]
     },
     "execution_count": 44,
     "metadata": {},
     "output_type": "execute_result"
    }
   ],
   "source": [
    "\n",
    "np.random.seed(123)\n",
    "array=np.random.normal(0, 1,12)\n",
    "\n",
    "# find first three smallest values from the \n",
    "result_arr=np.sort(array)[:3]\n",
    "result_arr"
   ]
  },
  {
   "cell_type": "code",
   "execution_count": 29,
   "id": "25d872b7",
   "metadata": {},
   "outputs": [
    {
     "data": {
      "text/plain": [
       "array([-2.42667924, -1.50629471, -1.0856306 ])"
      ]
     },
     "execution_count": 29,
     "metadata": {},
     "output_type": "execute_result"
    }
   ],
   "source": []
  },
  {
   "cell_type": "markdown",
   "id": "bfe3081a",
   "metadata": {},
   "source": [
    "### Task 25\n",
    "Generate a numpy array with integer from `1, 2, 3, ..., 30`. Without using loop, find the number of values in the array which are divisible by 2 or 3 "
   ]
  },
  {
   "cell_type": "code",
   "execution_count": 45,
   "id": "e504e9ba",
   "metadata": {},
   "outputs": [
    {
     "data": {
      "text/plain": [
       "20"
      ]
     },
     "execution_count": 45,
     "metadata": {},
     "output_type": "execute_result"
    }
   ],
   "source": [
    "# Generate a numpy arr with integers from from 1 to 30\n",
    "arr=np.arange(1,31)\n",
    "\n",
    "# find no.0f values in arr that are divisible by 2 or 3\n",
    "np.count_nonzero((arr%2==0) | (arr%3==0)  )"
   ]
  },
  {
   "cell_type": "code",
   "execution_count": 30,
   "id": "7ea20e39",
   "metadata": {},
   "outputs": [
    {
     "data": {
      "text/plain": [
       "20"
      ]
     },
     "execution_count": 30,
     "metadata": {},
     "output_type": "execute_result"
    }
   ],
   "source": []
  },
  {
   "cell_type": "markdown",
   "id": "a573a273",
   "metadata": {},
   "source": [
    "### Task 26\n",
    "Generate a $6 \\times 5$ numpy array with integer from `1, 2, 3, ..., 30`. Without using loop, set the even number in the array by 1 and odd number in the array by -1"
   ]
  },
  {
   "cell_type": "code",
   "execution_count": 46,
   "id": "bc08c05f",
   "metadata": {},
   "outputs": [
    {
     "data": {
      "text/plain": [
       "array([[-1,  1, -1,  1, -1],\n",
       "       [ 1, -1,  1, -1,  1],\n",
       "       [-1,  1, -1,  1, -1],\n",
       "       [ 1, -1,  1, -1,  1],\n",
       "       [-1,  1, -1,  1, -1],\n",
       "       [ 1, -1,  1, -1,  1]])"
      ]
     },
     "execution_count": 46,
     "metadata": {},
     "output_type": "execute_result"
    }
   ],
   "source": [
    "# 6x5 arr with integers from 1 to 30\n",
    "array=np.arange(1,31).reshape(6,5)\n",
    "\n",
    "# set even num in arr by 1 and odd num by -1\n",
    "outputArray=np.where(array%2==0,1,-1)\n",
    "outputArray"
   ]
  },
  {
   "cell_type": "code",
   "execution_count": 31,
   "id": "d9204e5f",
   "metadata": {
    "scrolled": true
   },
   "outputs": [
    {
     "data": {
      "text/plain": [
       "array([[-1,  1, -1,  1, -1],\n",
       "       [ 1, -1,  1, -1,  1],\n",
       "       [-1,  1, -1,  1, -1],\n",
       "       [ 1, -1,  1, -1,  1],\n",
       "       [-1,  1, -1,  1, -1],\n",
       "       [ 1, -1,  1, -1,  1]])"
      ]
     },
     "execution_count": 31,
     "metadata": {},
     "output_type": "execute_result"
    }
   ],
   "source": []
  },
  {
   "cell_type": "markdown",
   "id": "c12fe94a",
   "metadata": {},
   "source": [
    "### Task 27\n",
    "Create the following effect for the fish image (flip the left and right sides of the image)"
   ]
  },
  {
   "cell_type": "code",
   "execution_count": 51,
   "id": "c52801c8",
   "metadata": {},
   "outputs": [
    {
     "data": {
      "image/jpeg": "[encoded data removed]",
      "image/png": "[encoded data removed]",
      "text/plain": [
       "<PIL.Image.Image image mode=RGB size=326x242>"
      ]
     },
     "execution_count": 51,
     "metadata": {},
     "output_type": "execute_result"
    }
   ],
   "source": [
    "from PIL import Image\n",
    "img = Image.open(\"/Users/akhi/Downloads/Fish.jpeg\")\n",
    "fish = np.array(img)\n",
    "F=fish[::,::-1,:]\n",
    "Image.fromarray(F)"
   ]
  },
  {
   "cell_type": "code",
   "execution_count": 10,
   "id": "5ae9272d",
   "metadata": {},
   "outputs": [
    {
     "data": {
      "image/png": "[encoded data removed]",
      "text/plain": [
       "<PIL.Image.Image image mode=RGB size=326x242 at 0x1B79FE43FA0>"
      ]
     },
     "execution_count": 10,
     "metadata": {},
     "output_type": "execute_result"
    }
   ],
   "source": []
  },
  {
   "cell_type": "markdown",
   "id": "335f6a9a",
   "metadata": {},
   "source": [
    "### Task 28\n",
    "Given a $2 \\times 3$ numpy array\n",
    "```python\n",
    "arr = array([[1, 2, 3],\n",
    "             [4, 5, 6]])\n",
    "```\n",
    ", produce the following array using array concatenation\n",
    "```python\n",
    "arr = array([[1, 2, 3, 1, 2, 3],\n",
    "             [4, 5, 6, 4, 5, 6],\n",
    "             [1, 2, 3, 1, 2, 3],\n",
    "             [4, 5, 6, 4, 5, 6]])\n",
    "```"
   ]
  },
  {
   "cell_type": "code",
   "execution_count": 48,
   "id": "4192973f",
   "metadata": {},
   "outputs": [
    {
     "data": {
      "text/plain": [
       "array([[1, 2, 3, 1, 2, 3],\n",
       "       [4, 5, 6, 4, 5, 6],\n",
       "       [1, 2, 3, 1, 2, 3],\n",
       "       [4, 5, 6, 4, 5, 6]])"
      ]
     },
     "execution_count": 48,
     "metadata": {},
     "output_type": "execute_result"
    }
   ],
   "source": [
    "arr = np.array([[1, 2, 3],\n",
    "             [4, 5, 6]])\n",
    "concatenatedArr=np.concatenate([arr,arr],axis=1)\n",
    "np.concatenate([concatenatedArr,concatenatedArr])\n"
   ]
  }
 ],
 "metadata": {
  "kernelspec": {
   "display_name": "Python 3 (ipykernel)",
   "language": "python",
   "name": "python3"
  },
  "language_info": {
   "codemirror_mode": {
    "name": "ipython",
    "version": 3
   },
   "file_extension": ".py",
   "mimetype": "text/x-python",
   "name": "python",
   "nbconvert_exporter": "python",
   "pygments_lexer": "ipython3",
   "version": "3.12.1"
  }
 },
 "nbformat": 4,
 "nbformat_minor": 5
}
